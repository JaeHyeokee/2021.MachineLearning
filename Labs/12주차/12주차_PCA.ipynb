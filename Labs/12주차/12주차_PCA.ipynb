{
  "nbformat": 4,
  "nbformat_minor": 0,
  "metadata": {
    "kernelspec": {
      "display_name": "Python 3",
      "language": "python",
      "name": "python3"
    },
    "language_info": {
      "codemirror_mode": {
        "name": "ipython",
        "version": 3
      },
      "file_extension": ".py",
      "mimetype": "text/x-python",
      "name": "python",
      "nbconvert_exporter": "python",
      "pygments_lexer": "ipython3",
      "version": "3.6.9"
    },
    "colab": {
      "name": "12주차_PCA",
      "provenance": []
    }
  },
  "cells": [
    {
      "cell_type": "markdown",
      "metadata": {
        "id": "NgM9fpTP7w_B"
      },
      "source": [
        "### 차원축소를 활용한 와인 종류 예측하기 (분류)"
      ]
    },
    {
      "cell_type": "code",
      "metadata": {
        "id": "B8dXYwhn-HkY"
      },
      "source": [
        "# 데이터 로드\n",
        "from sklearn.datasets import load_wine\n",
        "data = load_wine()\n",
        "X = data.data\n",
        "Y = data.target"
      ],
      "execution_count": 1,
      "outputs": []
    },
    {
      "cell_type": "code",
      "metadata": {
        "id": "OEHY9WvH-eJy"
      },
      "source": [
        "# 학습/테스트 데이터 나누기\n",
        "from sklearn.model_selection import train_test_split\n",
        "X_train,X_test,Y_train,Y_test = train_test_split(X,Y,test_size=0.3,random_state=1,stratify=Y)\n"
      ],
      "execution_count": 2,
      "outputs": []
    },
    {
      "cell_type": "code",
      "metadata": {
        "id": "H7QwsSCc-HHN"
      },
      "source": [
        "# 데이터 정규화\n",
        "from sklearn.preprocessing import StandardScaler\n",
        "std = StandardScaler()\n",
        "X_train_std = std.fit_transform(X_train)\n",
        "X_test_std = std.transform(X_test)"
      ],
      "execution_count": 3,
      "outputs": []
    },
    {
      "cell_type": "code",
      "metadata": {
        "id": "TX2vtxEe6MMS"
      },
      "source": [
        "# PCA를 통해 데이터 차원 축소\n",
        "from sklearn.decomposition import PCA\n",
        "\n",
        "lpca = PCA(n_components=4)\n",
        "X_train_pca = lpca.fit_transform(X_train_std)\n",
        "X_test_pca = lpca.transform(X_test_std)\n"
      ],
      "execution_count": 4,
      "outputs": []
    },
    {
      "cell_type": "code",
      "metadata": {
        "colab": {
          "base_uri": "https://localhost:8080/"
        },
        "id": "dseM9M99-9SN",
        "outputId": "c86b1893-9aa6-4879-d6dd-240f84455499"
      },
      "source": [
        "# 분류기 학습 및 테스트\n",
        "from sklearn.linear_model import LogisticRegression\n",
        "\n",
        "lr = LogisticRegression()\n",
        "lr.fit(X_train_pca, Y_train)\n",
        "Y_train_pred = lr.predict(X_train_pca)\n",
        "Y_test_pred = lr.predict(X_test_pca)\n",
        "\n",
        "from sklearn import metrics\n",
        "print(metrics.accuracy_score(Y_train, Y_train_pred))\n",
        "print(metrics.accuracy_score(Y_test, Y_test_pred))\n",
        "print(metrics.confusion_matrix(Y_test, Y_test_pred))"
      ],
      "execution_count": 5,
      "outputs": [
        {
          "output_type": "stream",
          "text": [
            "0.9758064516129032\n",
            "0.9629629629629629\n",
            "[[18  0  0]\n",
            " [ 2 19  0]\n",
            " [ 0  0 15]]\n"
          ],
          "name": "stdout"
        }
      ]
    },
    {
      "cell_type": "code",
      "metadata": {
        "id": "EYWopmcR7uGK"
      },
      "source": [
        ""
      ],
      "execution_count": null,
      "outputs": []
    }
  ]
}