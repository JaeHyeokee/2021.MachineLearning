{
  "nbformat": 4,
  "nbformat_minor": 0,
  "metadata": {
    "colab": {
      "name": "13주차_최적모델_선정하기.ipynb",
      "provenance": []
    },
    "kernelspec": {
      "name": "python3",
      "display_name": "Python 3"
    },
    "language_info": {
      "name": "python"
    }
  },
  "cells": [
    {
      "cell_type": "code",
      "metadata": {
        "id": "dmGryzXHfung"
      },
      "source": [
        "# https://scikit-learn.org/stable/modules/generated/sklearn.datasets.load_breast_cancer.html\n",
        "# Dimensionality: 30\n",
        "# Classes: 2\n",
        "# 212(M-유방암)-label('0'), 357(B-정상인) - label('1')\n",
        "\n",
        "from sklearn.datasets import load_breast_cancer\n",
        "cancer = load_breast_cancer()"
      ],
      "execution_count": 1,
      "outputs": []
    },
    {
      "cell_type": "code",
      "metadata": {
        "id": "KU0RR-uFf2l6"
      },
      "source": [
        "X = cancer.data\n",
        "Y = cancer.target"
      ],
      "execution_count": 2,
      "outputs": []
    },
    {
      "cell_type": "code",
      "metadata": {
        "id": "PKWKE0J-f3oK"
      },
      "source": [
        "# https://scikit-learn.org/stable/modules/generated/sklearn.model_selection.train_test_split.html?highlight=train_test_split#sklearn.model_selection.train_test_split\n",
        "\n",
        "# 학습 데이터 분할\n",
        "from sklearn.model_selection import train_test_split\n",
        "X_train,X_test,Y_train,Y_test = train_test_split(X,Y,test_size=0.2, stratify=Y, random_state=1)"
      ],
      "execution_count": 3,
      "outputs": []
    },
    {
      "cell_type": "code",
      "metadata": {
        "colab": {
          "base_uri": "https://localhost:8080/"
        },
        "id": "VkvdLL7qNpMb",
        "outputId": "601a9f6d-c123-4d6d-9b1a-ec5aaeb166f4"
      },
      "source": [
        "from sklearn.pipeline import Pipeline\n",
        "from sklearn.svm import SVC\n",
        "from sklearn.decomposition import PCA\n"
      ],
      "execution_count": 43,
      "outputs": [
        {
          "output_type": "execute_result",
          "data": {
            "text/plain": [
              "Pipeline(memory=None,\n",
              "         steps=[('reduce_dim',\n",
              "                 StandardScaler(copy=True, with_mean=True, with_std=True)),\n",
              "                ('clf',\n",
              "                 SVC(C=1.0, break_ties=False, cache_size=200, class_weight=None,\n",
              "                     coef0=0.0, decision_function_shape='ovr', degree=3,\n",
              "                     gamma='scale', kernel='rbf', max_iter=-1,\n",
              "                     probability=False, random_state=None, shrinking=True,\n",
              "                     tol=0.001, verbose=False))],\n",
              "         verbose=False)"
            ]
          },
          "metadata": {
            "tags": []
          },
          "execution_count": 43
        }
      ]
    },
    {
      "cell_type": "code",
      "metadata": {
        "id": "bFzHQ569f4jU"
      },
      "source": [
        "# https://scikit-learn.org/stable/modules/generated/sklearn.pipeline.Pipeline.html\n",
        "# 파이파라인 기능을 이용한 모듈 설계\n",
        "\n",
        "from sklearn.preprocessing import StandardScaler\n",
        "from sklearn.svm import SVC\n",
        "from sklearn.pipeline import Pipeline\n",
        "from sklearn.model_selection import GridSearchCV\n",
        "\n",
        "# 파라미터 Parsing\n",
        "estimators = [('normalization', StandardScaler()), ('clf', SVC())]\n",
        "pipe = Pipeline(estimators)\n",
        "\n"
      ],
      "execution_count": 47,
      "outputs": []
    },
    {
      "cell_type": "code",
      "metadata": {
        "colab": {
          "base_uri": "https://localhost:8080/"
        },
        "id": "giaR0aBmps1u",
        "outputId": "b7c51bb2-016c-43d1-f60e-6ff5d4f07f5a"
      },
      "source": [
        "# https://scikit-learn.org/stable/modules/generated/sklearn.model_selection.ParameterGrid.html#sklearn.model_selection.ParameterGrid\n",
        "\n",
        "from sklearn.model_selection import ParameterGrid\n",
        "grid = [{'clf__kernel': [['linear']], 'clf__C': [[0.001], [0.01],[0.1],[1],[10], [100], [1000]]}, \n",
        "        {'clf__kernel': [['rbf']], 'clf__gamma': [[0.001], [0.01],[0.1],[1],[10], [100], [1000]], 'clf__C': [[0.001], [0.01],[0.1],[1],[10], [100], [1000]]}]\n",
        "\n",
        "grid_param = ParameterGrid(grid)\n",
        "list(grid_param)"
      ],
      "execution_count": 56,
      "outputs": [
        {
          "output_type": "execute_result",
          "data": {
            "text/plain": [
              "[{'clf__C': [0.001], 'clf__kernel': ['linear']},\n",
              " {'clf__C': [0.01], 'clf__kernel': ['linear']},\n",
              " {'clf__C': [0.1], 'clf__kernel': ['linear']},\n",
              " {'clf__C': [1], 'clf__kernel': ['linear']},\n",
              " {'clf__C': [10], 'clf__kernel': ['linear']},\n",
              " {'clf__C': [100], 'clf__kernel': ['linear']},\n",
              " {'clf__C': [1000], 'clf__kernel': ['linear']},\n",
              " {'clf__C': [0.001], 'clf__gamma': [0.001], 'clf__kernel': ['rbf']},\n",
              " {'clf__C': [0.001], 'clf__gamma': [0.01], 'clf__kernel': ['rbf']},\n",
              " {'clf__C': [0.001], 'clf__gamma': [0.1], 'clf__kernel': ['rbf']},\n",
              " {'clf__C': [0.001], 'clf__gamma': [1], 'clf__kernel': ['rbf']},\n",
              " {'clf__C': [0.001], 'clf__gamma': [10], 'clf__kernel': ['rbf']},\n",
              " {'clf__C': [0.001], 'clf__gamma': [100], 'clf__kernel': ['rbf']},\n",
              " {'clf__C': [0.001], 'clf__gamma': [1000], 'clf__kernel': ['rbf']},\n",
              " {'clf__C': [0.01], 'clf__gamma': [0.001], 'clf__kernel': ['rbf']},\n",
              " {'clf__C': [0.01], 'clf__gamma': [0.01], 'clf__kernel': ['rbf']},\n",
              " {'clf__C': [0.01], 'clf__gamma': [0.1], 'clf__kernel': ['rbf']},\n",
              " {'clf__C': [0.01], 'clf__gamma': [1], 'clf__kernel': ['rbf']},\n",
              " {'clf__C': [0.01], 'clf__gamma': [10], 'clf__kernel': ['rbf']},\n",
              " {'clf__C': [0.01], 'clf__gamma': [100], 'clf__kernel': ['rbf']},\n",
              " {'clf__C': [0.01], 'clf__gamma': [1000], 'clf__kernel': ['rbf']},\n",
              " {'clf__C': [0.1], 'clf__gamma': [0.001], 'clf__kernel': ['rbf']},\n",
              " {'clf__C': [0.1], 'clf__gamma': [0.01], 'clf__kernel': ['rbf']},\n",
              " {'clf__C': [0.1], 'clf__gamma': [0.1], 'clf__kernel': ['rbf']},\n",
              " {'clf__C': [0.1], 'clf__gamma': [1], 'clf__kernel': ['rbf']},\n",
              " {'clf__C': [0.1], 'clf__gamma': [10], 'clf__kernel': ['rbf']},\n",
              " {'clf__C': [0.1], 'clf__gamma': [100], 'clf__kernel': ['rbf']},\n",
              " {'clf__C': [0.1], 'clf__gamma': [1000], 'clf__kernel': ['rbf']},\n",
              " {'clf__C': [1], 'clf__gamma': [0.001], 'clf__kernel': ['rbf']},\n",
              " {'clf__C': [1], 'clf__gamma': [0.01], 'clf__kernel': ['rbf']},\n",
              " {'clf__C': [1], 'clf__gamma': [0.1], 'clf__kernel': ['rbf']},\n",
              " {'clf__C': [1], 'clf__gamma': [1], 'clf__kernel': ['rbf']},\n",
              " {'clf__C': [1], 'clf__gamma': [10], 'clf__kernel': ['rbf']},\n",
              " {'clf__C': [1], 'clf__gamma': [100], 'clf__kernel': ['rbf']},\n",
              " {'clf__C': [1], 'clf__gamma': [1000], 'clf__kernel': ['rbf']},\n",
              " {'clf__C': [10], 'clf__gamma': [0.001], 'clf__kernel': ['rbf']},\n",
              " {'clf__C': [10], 'clf__gamma': [0.01], 'clf__kernel': ['rbf']},\n",
              " {'clf__C': [10], 'clf__gamma': [0.1], 'clf__kernel': ['rbf']},\n",
              " {'clf__C': [10], 'clf__gamma': [1], 'clf__kernel': ['rbf']},\n",
              " {'clf__C': [10], 'clf__gamma': [10], 'clf__kernel': ['rbf']},\n",
              " {'clf__C': [10], 'clf__gamma': [100], 'clf__kernel': ['rbf']},\n",
              " {'clf__C': [10], 'clf__gamma': [1000], 'clf__kernel': ['rbf']},\n",
              " {'clf__C': [100], 'clf__gamma': [0.001], 'clf__kernel': ['rbf']},\n",
              " {'clf__C': [100], 'clf__gamma': [0.01], 'clf__kernel': ['rbf']},\n",
              " {'clf__C': [100], 'clf__gamma': [0.1], 'clf__kernel': ['rbf']},\n",
              " {'clf__C': [100], 'clf__gamma': [1], 'clf__kernel': ['rbf']},\n",
              " {'clf__C': [100], 'clf__gamma': [10], 'clf__kernel': ['rbf']},\n",
              " {'clf__C': [100], 'clf__gamma': [100], 'clf__kernel': ['rbf']},\n",
              " {'clf__C': [100], 'clf__gamma': [1000], 'clf__kernel': ['rbf']},\n",
              " {'clf__C': [1000], 'clf__gamma': [0.001], 'clf__kernel': ['rbf']},\n",
              " {'clf__C': [1000], 'clf__gamma': [0.01], 'clf__kernel': ['rbf']},\n",
              " {'clf__C': [1000], 'clf__gamma': [0.1], 'clf__kernel': ['rbf']},\n",
              " {'clf__C': [1000], 'clf__gamma': [1], 'clf__kernel': ['rbf']},\n",
              " {'clf__C': [1000], 'clf__gamma': [10], 'clf__kernel': ['rbf']},\n",
              " {'clf__C': [1000], 'clf__gamma': [100], 'clf__kernel': ['rbf']},\n",
              " {'clf__C': [1000], 'clf__gamma': [1000], 'clf__kernel': ['rbf']}]"
            ]
          },
          "metadata": {
            "tags": []
          },
          "execution_count": 56
        }
      ]
    },
    {
      "cell_type": "code",
      "metadata": {
        "id": "llWNQ5tzqsDv"
      },
      "source": [
        "gs = GridSearchCV(pipe, grid_param, scoring='accuracy', cv=10, n_jobs=1)"
      ],
      "execution_count": 61,
      "outputs": []
    },
    {
      "cell_type": "code",
      "metadata": {
        "colab": {
          "base_uri": "https://localhost:8080/"
        },
        "id": "aFvk9-Nyf6ia",
        "outputId": "ab247052-cb29-4481-e292-324241c9afb0"
      },
      "source": [
        "gs.fit(X_train,Y_train)"
      ],
      "execution_count": 62,
      "outputs": [
        {
          "output_type": "execute_result",
          "data": {
            "text/plain": [
              "GridSearchCV(cv=10, error_score=nan,\n",
              "             estimator=Pipeline(memory=None,\n",
              "                                steps=[('normalization',\n",
              "                                        StandardScaler(copy=True,\n",
              "                                                       with_mean=True,\n",
              "                                                       with_std=True)),\n",
              "                                       ('clf',\n",
              "                                        SVC(C=1.0, break_ties=False,\n",
              "                                            cache_size=200, class_weight=None,\n",
              "                                            coef0=0.0,\n",
              "                                            decision_function_shape='ovr',\n",
              "                                            degree=3, gamma='scale',\n",
              "                                            kernel='rbf', max_iter=-1,\n",
              "                                            probability=False,\n",
              "                                            random_state=None, shrinking=True,\n",
              "                                            tol=0.001, verbose=False))],\n",
              "                                verbose=False),\n",
              "             iid='deprecated', n_jobs=1,\n",
              "             param_grid=<sklearn.model_selection._search.ParameterGrid object at 0x7fb76c94a3d0>,\n",
              "             pre_dispatch='2*n_jobs', refit=True, return_train_score=False,\n",
              "             scoring='accuracy', verbose=0)"
            ]
          },
          "metadata": {
            "tags": []
          },
          "execution_count": 62
        }
      ]
    },
    {
      "cell_type": "code",
      "metadata": {
        "colab": {
          "base_uri": "https://localhost:8080/"
        },
        "id": "SjLL7D_Agsh7",
        "outputId": "4f1128de-8bdb-4c56-c641-661054a0e678"
      },
      "source": [
        "print(gs.best_score_)"
      ],
      "execution_count": 63,
      "outputs": [
        {
          "output_type": "stream",
          "text": [
            "0.9758454106280192\n"
          ],
          "name": "stdout"
        }
      ]
    },
    {
      "cell_type": "code",
      "metadata": {
        "colab": {
          "base_uri": "https://localhost:8080/"
        },
        "id": "4XHdIdZMoUuF",
        "outputId": "c9bc6874-c981-4700-888f-1ecf92b5b64e"
      },
      "source": [
        "print(gs.best_params_)"
      ],
      "execution_count": 64,
      "outputs": [
        {
          "output_type": "stream",
          "text": [
            "{'clf__C': 10, 'clf__gamma': 0.001, 'clf__kernel': 'rbf'}\n"
          ],
          "name": "stdout"
        }
      ]
    },
    {
      "cell_type": "code",
      "metadata": {
        "id": "tx8tiidVolaN"
      },
      "source": [
        "best_model = gs.best_estimator_\n",
        "Y_test_pred = best_model.predict(X_test)"
      ],
      "execution_count": 65,
      "outputs": []
    },
    {
      "cell_type": "code",
      "metadata": {
        "colab": {
          "base_uri": "https://localhost:8080/"
        },
        "id": "ryTxOEvJo2Ow",
        "outputId": "f528f12e-693d-4e0c-87b3-933a4cec89cb"
      },
      "source": [
        "from sklearn.metrics import accuracy_score\n",
        "\n",
        "Y_test_Pred = best_model.predict(X_test)\n",
        "accuracy_score(Y_test, Y_test_Pred)"
      ],
      "execution_count": 66,
      "outputs": [
        {
          "output_type": "execute_result",
          "data": {
            "text/plain": [
              "0.9824561403508771"
            ]
          },
          "metadata": {
            "tags": []
          },
          "execution_count": 66
        }
      ]
    },
    {
      "cell_type": "code",
      "metadata": {
        "id": "QJ996dGiIAZE"
      },
      "source": [
        ""
      ],
      "execution_count": null,
      "outputs": []
    }
  ]
}