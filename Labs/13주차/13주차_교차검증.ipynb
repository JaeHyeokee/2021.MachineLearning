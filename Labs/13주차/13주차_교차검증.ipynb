{
  "nbformat": 4,
  "nbformat_minor": 0,
  "metadata": {
    "colab": {
      "name": "13주차_교차검증.ipynb",
      "provenance": []
    },
    "kernelspec": {
      "name": "python3",
      "display_name": "Python 3"
    },
    "language_info": {
      "name": "python"
    }
  },
  "cells": [
    {
      "cell_type": "markdown",
      "metadata": {
        "id": "iGx9K76lffHL"
      },
      "source": [
        "## [13주차-2번] 교차검증을 통한 과적합 분석하기"
      ]
    },
    {
      "cell_type": "code",
      "metadata": {
        "id": "SyXYdWlWbCuf"
      },
      "source": [
        "# https://scikit-learn.org/stable/modules/generated/sklearn.datasets.load_breast_cancer.html\n",
        "# Dimensionality: 30\n",
        "# Classes: 2\n",
        "# 212(M-유방암)-label('0'), 357(B-정상인) - label('1')\n",
        "\n",
        "from sklearn.datasets import load_breast_cancer\n",
        "cancer = load_breast_cancer()"
      ],
      "execution_count": 20,
      "outputs": []
    },
    {
      "cell_type": "code",
      "metadata": {
        "id": "UEKBHHQBbH91"
      },
      "source": [
        "X = cancer.data\n",
        "Y = cancer.target"
      ],
      "execution_count": 21,
      "outputs": []
    },
    {
      "cell_type": "code",
      "metadata": {
        "id": "YdLUcta2bJtG"
      },
      "source": [
        "# https://scikit-learn.org/stable/modules/generated/sklearn.model_selection.train_test_split.html?highlight=train_test_split#sklearn.model_selection.train_test_split\n",
        "\n",
        "# 학습 데이터 분할\n",
        "from sklearn.model_selection import train_test_split\n",
        "X_train,X_test,Y_train,Y_test = train_test_split(X,Y,test_size=0.2, stratify=Y, random_state=1)"
      ],
      "execution_count": 22,
      "outputs": []
    },
    {
      "cell_type": "code",
      "metadata": {
        "id": "7peK-RgTbK1q"
      },
      "source": [
        "# https://scikit-learn.org/stable/modules/generated/sklearn.pipeline.Pipeline.html\n",
        "# 파이파라인 기능을 이용한 모듈 설계\n",
        "\n",
        "from sklearn.preprocessing import StandardScaler\n",
        "from sklearn.decomposition import PCA\n",
        "from sklearn.linear_model import LogisticRegression\n",
        "from sklearn.pipeline import make_pipeline\n",
        "\n",
        "pipeline = make_pipeline(StandardScaler(), PCA(n_components=4), LogisticRegression() )\n"
      ],
      "execution_count": 23,
      "outputs": []
    },
    {
      "cell_type": "code",
      "metadata": {
        "id": "e-ezP_3IbOXQ"
      },
      "source": [
        "# https://scikit-learn.org/stable/modules/generated/sklearn.model_selection.cross_validate.html#sklearn.model_selection.cross_validate\n",
        "\n",
        "from sklearn.model_selection import cross_validate\n",
        "scores = cross_validate(pipeline, X_train, Y_train, cv=10, return_train_score=True)\n"
      ],
      "execution_count": 24,
      "outputs": []
    },
    {
      "cell_type": "code",
      "metadata": {
        "colab": {
          "base_uri": "https://localhost:8080/"
        },
        "id": "5StGYBpld8Ck",
        "outputId": "ae32d82e-c1da-4ee8-9007-fa93c7beffa7"
      },
      "source": [
        "sorted(scores.keys())"
      ],
      "execution_count": 25,
      "outputs": [
        {
          "output_type": "execute_result",
          "data": {
            "text/plain": [
              "['fit_time', 'score_time', 'test_score', 'train_score']"
            ]
          },
          "metadata": {
            "tags": []
          },
          "execution_count": 25
        }
      ]
    },
    {
      "cell_type": "code",
      "metadata": {
        "colab": {
          "base_uri": "https://localhost:8080/"
        },
        "id": "njylivKl5Tzh",
        "outputId": "971704a9-2e9f-45b6-e80c-3ac11a3459d7"
      },
      "source": [
        "import numpy as np\n",
        "\n",
        "print('CV Validation Accuracy scores: ', scores['train_score'])\n",
        "print('CV Validation Accuracy: %.3f +/- %.3f' %(np.mean(scores['train_score']), np.std(scores['train_score'])))"
      ],
      "execution_count": 26,
      "outputs": [
        {
          "output_type": "stream",
          "text": [
            "CV Validation Accuracy scores:  [0.96577017 0.96577017 0.96577017 0.96577017 0.96821516 0.96585366\n",
            " 0.97073171 0.96829268 0.97560976 0.96585366]\n",
            "CV Validation Accuracy: 0.968 +/- 0.003\n"
          ],
          "name": "stdout"
        }
      ]
    },
    {
      "cell_type": "code",
      "metadata": {
        "colab": {
          "base_uri": "https://localhost:8080/"
        },
        "id": "Y8nSzehGboiq",
        "outputId": "48600cdd-b72c-4253-92e4-5e6ff305c19e"
      },
      "source": [
        "import numpy as np\n",
        "\n",
        "print('CV Validation Accuracy scores: ', scores['test_score'])\n",
        "print('CV Validation Accuracy: %.3f +/- %.3f' %(np.mean(scores['test_score']), np.std(scores['test_score'])))"
      ],
      "execution_count": 27,
      "outputs": [
        {
          "output_type": "stream",
          "text": [
            "CV Validation Accuracy scores:  [0.97826087 0.97826087 0.95652174 1.         0.95652174 0.97777778\n",
            " 0.93333333 0.95555556 0.91111111 1.        ]\n",
            "CV Validation Accuracy: 0.965 +/- 0.027\n"
          ],
          "name": "stdout"
        }
      ]
    },
    {
      "cell_type": "markdown",
      "metadata": {
        "id": "LpKrWk2efXb9"
      },
      "source": [
        "### 교차 검증 결과\n",
        "- 과대적합도 과소적합도 발생하지 않는다"
      ]
    },
    {
      "cell_type": "markdown",
      "metadata": {
        "id": "3X0joH3qnAov"
      },
      "source": [
        "### [13주차-3번] 최적모델 선정"
      ]
    },
    {
      "cell_type": "code",
      "metadata": {
        "colab": {
          "base_uri": "https://localhost:8080/"
        },
        "id": "0Swy99vIdMD6",
        "outputId": "34f68985-2c25-4ff0-c06e-0dd195602569"
      },
      "source": [
        "from sklearn.model_selection import GridSearchCV\n",
        "\n",
        "parameters = {}\n",
        "gs = GridSearchCV(pipeline, parameters, scoring='accuracy',cv=10)\n",
        "gs.fit(X_train,Y_train)"
      ],
      "execution_count": 32,
      "outputs": [
        {
          "output_type": "execute_result",
          "data": {
            "text/plain": [
              "GridSearchCV(cv=10, error_score=nan,\n",
              "             estimator=Pipeline(memory=None,\n",
              "                                steps=[('standardscaler',\n",
              "                                        StandardScaler(copy=True,\n",
              "                                                       with_mean=True,\n",
              "                                                       with_std=True)),\n",
              "                                       ('pca',\n",
              "                                        PCA(copy=True, iterated_power='auto',\n",
              "                                            n_components=4, random_state=None,\n",
              "                                            svd_solver='auto', tol=0.0,\n",
              "                                            whiten=False)),\n",
              "                                       ('logisticregression',\n",
              "                                        LogisticRegression(C=1.0,\n",
              "                                                           class_weight=None,\n",
              "                                                           dual=False,\n",
              "                                                           fit_intercept=True,\n",
              "                                                           intercept_scaling=1,\n",
              "                                                           l1_ratio=None,\n",
              "                                                           max_iter=100,\n",
              "                                                           multi_class='auto',\n",
              "                                                           n_jobs=None,\n",
              "                                                           penalty='l2',\n",
              "                                                           random_state=None,\n",
              "                                                           solver='lbfgs',\n",
              "                                                           tol=0.0001,\n",
              "                                                           verbose=0,\n",
              "                                                           warm_start=False))],\n",
              "                                verbose=False),\n",
              "             iid='deprecated', n_jobs=None, param_grid={},\n",
              "             pre_dispatch='2*n_jobs', refit=True, return_train_score=False,\n",
              "             scoring='accuracy', verbose=0)"
            ]
          },
          "metadata": {
            "tags": []
          },
          "execution_count": 32
        }
      ]
    },
    {
      "cell_type": "code",
      "metadata": {
        "id": "FweLHkjHiT47"
      },
      "source": [
        "best = gs.best_estimator_"
      ],
      "execution_count": 33,
      "outputs": []
    },
    {
      "cell_type": "code",
      "metadata": {
        "colab": {
          "base_uri": "https://localhost:8080/"
        },
        "id": "mHROlf7v59ep",
        "outputId": "9faa69dd-48c1-47dc-c291-7ab3ea2111c9"
      },
      "source": [
        "gs.cv_results_"
      ],
      "execution_count": 34,
      "outputs": [
        {
          "output_type": "execute_result",
          "data": {
            "text/plain": [
              "{'mean_fit_time': array([0.00662093]),\n",
              " 'mean_score_time': array([0.00051041]),\n",
              " 'mean_test_score': array([0.9647343]),\n",
              " 'params': [{}],\n",
              " 'rank_test_score': array([1], dtype=int32),\n",
              " 'split0_test_score': array([0.97826087]),\n",
              " 'split1_test_score': array([0.97826087]),\n",
              " 'split2_test_score': array([0.95652174]),\n",
              " 'split3_test_score': array([1.]),\n",
              " 'split4_test_score': array([0.95652174]),\n",
              " 'split5_test_score': array([0.97777778]),\n",
              " 'split6_test_score': array([0.93333333]),\n",
              " 'split7_test_score': array([0.95555556]),\n",
              " 'split8_test_score': array([0.91111111]),\n",
              " 'split9_test_score': array([1.]),\n",
              " 'std_fit_time': array([0.00164769]),\n",
              " 'std_score_time': array([3.95498696e-05]),\n",
              " 'std_test_score': array([0.02665336])}"
            ]
          },
          "metadata": {
            "tags": []
          },
          "execution_count": 34
        }
      ]
    },
    {
      "cell_type": "code",
      "metadata": {
        "colab": {
          "base_uri": "https://localhost:8080/"
        },
        "id": "UU6RGzaVklDI",
        "outputId": "18e1a639-9af8-42c3-b6f8-0fef60d3faff"
      },
      "source": [
        "from sklearn.metrics import accuracy_score\n",
        "\n",
        "Y_train_Pred = best.predict(X_train)\n",
        "accuracy_score(Y_train, Y_train_Pred)\n"
      ],
      "execution_count": 30,
      "outputs": [
        {
          "output_type": "execute_result",
          "data": {
            "text/plain": [
              "0.967032967032967"
            ]
          },
          "metadata": {
            "tags": []
          },
          "execution_count": 30
        }
      ]
    },
    {
      "cell_type": "code",
      "metadata": {
        "colab": {
          "base_uri": "https://localhost:8080/"
        },
        "id": "0IDIAL-Oj8Sq",
        "outputId": "919da5b9-9f88-4a44-b81b-079b9a53e275"
      },
      "source": [
        "from sklearn.metrics import accuracy_score\n",
        "\n",
        "Y_test_Pred = best.predict(X_test)\n",
        "accuracy_score(Y_test, Y_test_Pred)\n"
      ],
      "execution_count": 31,
      "outputs": [
        {
          "output_type": "execute_result",
          "data": {
            "text/plain": [
              "0.9736842105263158"
            ]
          },
          "metadata": {
            "tags": []
          },
          "execution_count": 31
        }
      ]
    },
    {
      "cell_type": "code",
      "metadata": {
        "id": "jmeSTNXqkXXH"
      },
      "source": [
        ""
      ],
      "execution_count": 31,
      "outputs": []
    }
  ]
}